{
 "cells": [
  {
   "cell_type": "markdown",
   "metadata": {
    "colab": {},
    "colab_type": "code",
    "id": "n3lnWjvI83ix"
   },
   "source": [
    "# Pronóstico de la evolución de pacientes con diabetes"
   ]
  },
  {
   "cell_type": "markdown",
   "metadata": {},
   "source": [
    "## Descripción del problema real"
   ]
  },
  {
   "cell_type": "markdown",
   "metadata": {},
   "source": [
    "Los tratamientos médicos están basados en las expectativas de recuperación o el avance de una enfermedad para tomar decisiones. En este caso, un equipo médico desea contar con pronósticos de pacientes con diabetes para tomar decisiones sobre su tratamiento."
   ]
  },
  {
   "cell_type": "markdown",
   "metadata": {},
   "source": [
    "## Descripción del problema en términos de los datos"
   ]
  },
  {
   "cell_type": "markdown",
   "metadata": {},
   "source": [
    "Se desea determinar el progreso de la diabeteis un año hacia adelante a partir de las variables medidas para 442 pacientes. La información está almacenada en el archivo `datos/diabetes.csv`. Las variables medidas son: edad, sexo, indice de masa corporal, presión sanguinea y seis medidas de serum en la sangre. Se desea pronósticar el progreso de la enfermedad a partir de las variables dadas."
   ]
  },
  {
   "cell_type": "markdown",
   "metadata": {},
   "source": [
    "## Aproximaciones posibles"
   ]
  },
  {
   "cell_type": "markdown",
   "metadata": {},
   "source": [
    "En este caso, se desea comparar los resultados de un modelo de regresión lineal y un modelo de redes neuronales artificiales."
   ]
  },
  {
   "cell_type": "markdown",
   "metadata": {},
   "source": [
    "## Requerimientos"
   ]
  },
  {
   "cell_type": "markdown",
   "metadata": {},
   "source": [
    "Usted debe:\n",
    "\n",
    "* Determinar cuáles de las variables consideradas son relevantes para el problema.\n",
    "\n",
    "\n",
    "* Determinar si hay alguna transformación de las variables de entrada o de salida que mejore el pronóstico del modelo.\n",
    "\n",
    "\n",
    "* Construir un modelo de regresión lineal que sirva como base para construir un modelo de redes neuronales artificiales.\n",
    "\n",
    "\n",
    "\n",
    "* Construir un modelo de redes neuronales artificiales. Asimismo, debe determinar el número de neuronas en la capa o capas ocultas.\n",
    "\n",
    "\n",
    "* Utiizar una técnica como crossvalidation u otra similar para establecer la robustez del modelo."
   ]
  },
  {
   "cell_type": "code",
   "execution_count": 34,
   "metadata": {},
   "outputs": [],
   "source": [
    "import logging\n",
    "import numpy as np\n",
    "import pandas as pd\n",
    "import seaborn as sns\n",
    "from sklearn.ensemble import ExtraTreesClassifier\n",
    "import matplotlib.pyplot as plt\n",
    "from sklearn.model_selection import train_test_split\n",
    "from sklearn.linear_model import LinearRegression\n",
    "from sklearn import linear_model\n",
    "from sklearn import metrics\n",
    "import math\n",
    "from sklearn.preprocessing import MinMaxScaler\n",
    "from tensorflow.python.keras.models import Sequential\n",
    "from tensorflow.python.keras.layers import Dense\n",
    "from tensorflow.python.keras.wrappers.scikit_learn import KerasRegressor\n",
    "import tensorflow as tf\n",
    "tf.get_logger().setLevel(logging.ERROR)"
   ]
  },
  {
   "cell_type": "markdown",
   "metadata": {},
   "source": [
    "## Se leen los datos"
   ]
  },
  {
   "cell_type": "code",
   "execution_count": 2,
   "metadata": {},
   "outputs": [],
   "source": [
    "diabetes_df = pd.read_csv(\"datos/diabetes.csv\")"
   ]
  },
  {
   "cell_type": "code",
   "execution_count": 3,
   "metadata": {},
   "outputs": [
    {
     "name": "stdout",
     "output_type": "stream",
     "text": [
      "          age       sex       bmi        bp        s1        s2        s3  \\\n",
      "0    0.038076  0.050680  0.061696  0.021872 -0.044223 -0.034821 -0.043401   \n",
      "1   -0.001882 -0.044642 -0.051474 -0.026328 -0.008449 -0.019163  0.074412   \n",
      "2    0.085299  0.050680  0.044451 -0.005671 -0.045599 -0.034194 -0.032356   \n",
      "3   -0.089063 -0.044642 -0.011595 -0.036656  0.012191  0.024991 -0.036038   \n",
      "4    0.005383 -0.044642 -0.036385  0.021872  0.003935  0.015596  0.008142   \n",
      "5   -0.092695 -0.044642 -0.040696 -0.019442 -0.068991 -0.079288  0.041277   \n",
      "6   -0.045472  0.050680 -0.047163 -0.015999 -0.040096 -0.024800  0.000779   \n",
      "7    0.063504  0.050680 -0.001895  0.066630  0.090620  0.108914  0.022869   \n",
      "8    0.041708  0.050680  0.061696 -0.040099 -0.013953  0.006202 -0.028674   \n",
      "9   -0.070900 -0.044642  0.039062 -0.033214 -0.012577 -0.034508 -0.024993   \n",
      "10  -0.096328 -0.044642 -0.083808  0.008101 -0.103389 -0.090561 -0.013948   \n",
      "11   0.027178  0.050680  0.017506 -0.033214 -0.007073  0.045972 -0.065491   \n",
      "12   0.016281 -0.044642 -0.028840 -0.009113 -0.004321 -0.009769  0.044958   \n",
      "13   0.005383  0.050680 -0.001895  0.008101 -0.004321 -0.015719 -0.002903   \n",
      "14   0.045341 -0.044642 -0.025607 -0.012556  0.017694 -0.000061  0.081775   \n",
      "15  -0.052738  0.050680 -0.018062  0.080401  0.089244  0.107662 -0.039719   \n",
      "16  -0.005515 -0.044642  0.042296  0.049415  0.024574 -0.023861  0.074412   \n",
      "17   0.070769  0.050680  0.012117  0.056301  0.034206  0.049416 -0.039719   \n",
      "18  -0.038207 -0.044642 -0.010517 -0.036656 -0.037344 -0.019476 -0.028674   \n",
      "19  -0.027310 -0.044642 -0.018062 -0.040099 -0.002945 -0.011335  0.037595   \n",
      "20  -0.049105 -0.044642 -0.056863 -0.043542 -0.045599 -0.043276  0.000779   \n",
      "21  -0.085430  0.050680 -0.022373  0.001215 -0.037344 -0.026366  0.015505   \n",
      "22  -0.085430 -0.044642 -0.004050 -0.009113 -0.002945  0.007767  0.022869   \n",
      "23   0.045341  0.050680  0.060618  0.031053  0.028702 -0.047347 -0.054446   \n",
      "24  -0.063635 -0.044642  0.035829 -0.022885 -0.030464 -0.018850 -0.006584   \n",
      "25  -0.067268  0.050680 -0.012673 -0.040099 -0.015328  0.004636 -0.058127   \n",
      "26  -0.107226 -0.044642 -0.077342 -0.026328 -0.089630 -0.096198  0.026550   \n",
      "27  -0.023677 -0.044642  0.059541 -0.040099 -0.042848 -0.043589  0.011824   \n",
      "28   0.052606 -0.044642 -0.021295 -0.074528 -0.040096 -0.037639 -0.006584   \n",
      "29   0.067136  0.050680 -0.006206  0.063187 -0.042848 -0.095885  0.052322   \n",
      "..        ...       ...       ...       ...       ...       ...       ...   \n",
      "412  0.074401 -0.044642  0.085408  0.063187  0.014942  0.013091  0.015505   \n",
      "413 -0.052738 -0.044642 -0.000817 -0.026328  0.010815  0.007141  0.048640   \n",
      "414  0.081666  0.050680  0.006728 -0.004523  0.109883  0.117056 -0.032356   \n",
      "415 -0.005515 -0.044642  0.008883 -0.050428  0.025950  0.047224 -0.043401   \n",
      "416 -0.027310 -0.044642  0.080019  0.098763 -0.002945  0.018101 -0.017629   \n",
      "417 -0.052738 -0.044642  0.071397 -0.074528 -0.015328 -0.001314  0.004460   \n",
      "418  0.009016 -0.044642 -0.024529 -0.026328  0.098876  0.094196  0.070730   \n",
      "419 -0.020045 -0.044642 -0.054707 -0.053871 -0.066239 -0.057367  0.011824   \n",
      "420  0.023546 -0.044642 -0.036385  0.000068  0.001183  0.034698 -0.043401   \n",
      "421  0.038076  0.050680  0.016428  0.021872  0.039710  0.045032 -0.043401   \n",
      "422 -0.078165  0.050680  0.077863  0.052858  0.078236  0.064447  0.026550   \n",
      "423  0.009016  0.050680 -0.039618  0.028758  0.038334  0.073529 -0.072854   \n",
      "424  0.001751  0.050680  0.011039 -0.019442 -0.016704 -0.003819 -0.047082   \n",
      "425 -0.078165 -0.044642 -0.040696 -0.081414 -0.100638 -0.112795  0.022869   \n",
      "426  0.030811  0.050680 -0.034229  0.043677  0.057597  0.068831 -0.032356   \n",
      "427 -0.034575  0.050680  0.005650 -0.005671 -0.073119 -0.062691 -0.006584   \n",
      "428  0.048974  0.050680  0.088642  0.087287  0.035582  0.021546 -0.024993   \n",
      "429 -0.041840 -0.044642 -0.033151 -0.022885  0.046589  0.041587  0.056003   \n",
      "430 -0.009147 -0.044642 -0.056863 -0.050428  0.021822  0.045345 -0.028674   \n",
      "431  0.070769  0.050680 -0.030996  0.021872 -0.037344 -0.047034  0.033914   \n",
      "432  0.009016 -0.044642  0.055229 -0.005671  0.057597  0.044719 -0.002903   \n",
      "433 -0.027310 -0.044642 -0.060097 -0.029771  0.046589  0.019980  0.122273   \n",
      "434  0.016281 -0.044642  0.001339  0.008101  0.005311  0.010899  0.030232   \n",
      "435 -0.012780 -0.044642 -0.023451 -0.040099 -0.016704  0.004636 -0.017629   \n",
      "436 -0.056370 -0.044642 -0.074108 -0.050428 -0.024960 -0.047034  0.092820   \n",
      "437  0.041708  0.050680  0.019662  0.059744 -0.005697 -0.002566 -0.028674   \n",
      "438 -0.005515  0.050680 -0.015906 -0.067642  0.049341  0.079165 -0.028674   \n",
      "439  0.041708  0.050680 -0.015906  0.017282 -0.037344 -0.013840 -0.024993   \n",
      "440 -0.045472 -0.044642  0.039062  0.001215  0.016318  0.015283 -0.028674   \n",
      "441 -0.045472 -0.044642 -0.073030 -0.081414  0.083740  0.027809  0.173816   \n",
      "\n",
      "           s4        s5        s6      Y  \n",
      "0   -0.002592  0.019908 -0.017646  151.0  \n",
      "1   -0.039493 -0.068330 -0.092204   75.0  \n",
      "2   -0.002592  0.002864 -0.025930  141.0  \n",
      "3    0.034309  0.022692 -0.009362  206.0  \n",
      "4   -0.002592 -0.031991 -0.046641  135.0  \n",
      "5   -0.076395 -0.041180 -0.096346   97.0  \n",
      "6   -0.039493 -0.062913 -0.038357  138.0  \n",
      "7    0.017703 -0.035817  0.003064   63.0  \n",
      "8   -0.002592 -0.014956  0.011349  110.0  \n",
      "9   -0.002592  0.067736 -0.013504  310.0  \n",
      "10  -0.076395 -0.062913 -0.034215  101.0  \n",
      "11   0.071210 -0.096433 -0.059067   69.0  \n",
      "12  -0.039493 -0.030751 -0.042499  179.0  \n",
      "13  -0.002592  0.038393 -0.013504  185.0  \n",
      "14  -0.039493 -0.031991 -0.075636  118.0  \n",
      "15   0.108111  0.036056 -0.042499  171.0  \n",
      "16  -0.039493  0.052280  0.027917  166.0  \n",
      "17   0.034309  0.027368 -0.001078  144.0  \n",
      "18  -0.002592 -0.018118 -0.017646   97.0  \n",
      "19  -0.039493 -0.008944 -0.054925  168.0  \n",
      "20  -0.039493 -0.011901  0.015491   68.0  \n",
      "21  -0.039493 -0.072128 -0.017646   49.0  \n",
      "22  -0.039493 -0.061177 -0.013504   68.0  \n",
      "23   0.071210  0.133599  0.135612  245.0  \n",
      "24  -0.002592 -0.025952 -0.054925  184.0  \n",
      "25   0.034309  0.019199 -0.034215  202.0  \n",
      "26  -0.076395 -0.042572 -0.005220  137.0  \n",
      "27  -0.039493 -0.015998  0.040343   85.0  \n",
      "28  -0.039493 -0.000609 -0.054925  131.0  \n",
      "29  -0.076395  0.059424  0.052770  283.0  \n",
      "..        ...       ...       ...    ...  \n",
      "412 -0.002592  0.006209  0.085907  261.0  \n",
      "413 -0.039493 -0.035817  0.019633  113.0  \n",
      "414  0.091875  0.054724  0.007207  131.0  \n",
      "415  0.071210  0.014823  0.003064  174.0  \n",
      "416  0.003312 -0.029528  0.036201  257.0  \n",
      "417 -0.021412 -0.046879  0.003064   55.0  \n",
      "418 -0.002592 -0.021394  0.007207   84.0  \n",
      "419 -0.039493 -0.074089 -0.005220   42.0  \n",
      "420  0.034309 -0.033249  0.061054  146.0  \n",
      "421  0.071210  0.049769  0.015491  212.0  \n",
      "422 -0.002592  0.040672 -0.009362  233.0  \n",
      "423  0.108111  0.015567 -0.046641   91.0  \n",
      "424  0.034309  0.024053  0.023775  111.0  \n",
      "425 -0.076395 -0.020289 -0.050783  152.0  \n",
      "426  0.057557  0.035462  0.085907  120.0  \n",
      "427 -0.039493 -0.045421  0.032059   67.0  \n",
      "428  0.034309  0.066048  0.131470  310.0  \n",
      "429 -0.024733 -0.025952 -0.038357   94.0  \n",
      "430  0.034309 -0.009919 -0.017646  183.0  \n",
      "431 -0.039493 -0.014956 -0.001078   66.0  \n",
      "432  0.023239  0.055684  0.106617  173.0  \n",
      "433 -0.039493 -0.051401 -0.009362   72.0  \n",
      "434 -0.039493 -0.045421  0.032059   49.0  \n",
      "435 -0.002592 -0.038459 -0.038357   64.0  \n",
      "436 -0.076395 -0.061177 -0.046641   48.0  \n",
      "437 -0.002592  0.031193  0.007207  178.0  \n",
      "438  0.034309 -0.018118  0.044485  104.0  \n",
      "439 -0.011080 -0.046879  0.015491  132.0  \n",
      "440  0.026560  0.044528 -0.025930  220.0  \n",
      "441 -0.039493 -0.004220  0.003064   57.0  \n",
      "\n",
      "[442 rows x 11 columns]\n"
     ]
    }
   ],
   "source": [
    "print(diabetes_df)\n"
   ]
  },
  {
   "cell_type": "markdown",
   "metadata": {},
   "source": [
    "## Relacion entre variables"
   ]
  },
  {
   "cell_type": "markdown",
   "metadata": {},
   "source": [
    "Hay muchas formas de ver como las variables estan relacionadas unas a otra, en este caso usaremos el metodo .corr() el cual toma cada variable y la compara con las otras, de esta forma nos da un valor numerico entre -1 y 1, entre mas cercano a uno o a menos uno mas se relacionara una con la otra y si se obtiene un valor muy cercano a 0 es que las varibles no tienen relacion o es muy poca, de esta forma obtenemos la siguiente tabla"
   ]
  },
  {
   "cell_type": "code",
   "execution_count": 4,
   "metadata": {
    "scrolled": true
   },
   "outputs": [
    {
     "data": {
      "text/html": [
       "<div>\n",
       "<style scoped>\n",
       "    .dataframe tbody tr th:only-of-type {\n",
       "        vertical-align: middle;\n",
       "    }\n",
       "\n",
       "    .dataframe tbody tr th {\n",
       "        vertical-align: top;\n",
       "    }\n",
       "\n",
       "    .dataframe thead th {\n",
       "        text-align: right;\n",
       "    }\n",
       "</style>\n",
       "<table border=\"1\" class=\"dataframe\">\n",
       "  <thead>\n",
       "    <tr style=\"text-align: right;\">\n",
       "      <th></th>\n",
       "      <th>age</th>\n",
       "      <th>sex</th>\n",
       "      <th>bmi</th>\n",
       "      <th>bp</th>\n",
       "      <th>s1</th>\n",
       "      <th>s2</th>\n",
       "      <th>s3</th>\n",
       "      <th>s4</th>\n",
       "      <th>s5</th>\n",
       "      <th>s6</th>\n",
       "      <th>Y</th>\n",
       "    </tr>\n",
       "  </thead>\n",
       "  <tbody>\n",
       "    <tr>\n",
       "      <th>age</th>\n",
       "      <td>1.000000</td>\n",
       "      <td>0.173737</td>\n",
       "      <td>0.185085</td>\n",
       "      <td>0.335427</td>\n",
       "      <td>0.260061</td>\n",
       "      <td>0.219243</td>\n",
       "      <td>-0.075181</td>\n",
       "      <td>0.203841</td>\n",
       "      <td>0.270777</td>\n",
       "      <td>0.301731</td>\n",
       "      <td>0.187889</td>\n",
       "    </tr>\n",
       "    <tr>\n",
       "      <th>sex</th>\n",
       "      <td>0.173737</td>\n",
       "      <td>1.000000</td>\n",
       "      <td>0.088161</td>\n",
       "      <td>0.241013</td>\n",
       "      <td>0.035277</td>\n",
       "      <td>0.142637</td>\n",
       "      <td>-0.379090</td>\n",
       "      <td>0.332115</td>\n",
       "      <td>0.149918</td>\n",
       "      <td>0.208133</td>\n",
       "      <td>0.043062</td>\n",
       "    </tr>\n",
       "    <tr>\n",
       "      <th>bmi</th>\n",
       "      <td>0.185085</td>\n",
       "      <td>0.088161</td>\n",
       "      <td>1.000000</td>\n",
       "      <td>0.395415</td>\n",
       "      <td>0.249777</td>\n",
       "      <td>0.261170</td>\n",
       "      <td>-0.366811</td>\n",
       "      <td>0.413807</td>\n",
       "      <td>0.446159</td>\n",
       "      <td>0.388680</td>\n",
       "      <td>0.586450</td>\n",
       "    </tr>\n",
       "    <tr>\n",
       "      <th>bp</th>\n",
       "      <td>0.335427</td>\n",
       "      <td>0.241013</td>\n",
       "      <td>0.395415</td>\n",
       "      <td>1.000000</td>\n",
       "      <td>0.242470</td>\n",
       "      <td>0.185558</td>\n",
       "      <td>-0.178761</td>\n",
       "      <td>0.257653</td>\n",
       "      <td>0.393478</td>\n",
       "      <td>0.390429</td>\n",
       "      <td>0.441484</td>\n",
       "    </tr>\n",
       "    <tr>\n",
       "      <th>s1</th>\n",
       "      <td>0.260061</td>\n",
       "      <td>0.035277</td>\n",
       "      <td>0.249777</td>\n",
       "      <td>0.242470</td>\n",
       "      <td>1.000000</td>\n",
       "      <td>0.896663</td>\n",
       "      <td>0.051519</td>\n",
       "      <td>0.542207</td>\n",
       "      <td>0.515501</td>\n",
       "      <td>0.325717</td>\n",
       "      <td>0.212022</td>\n",
       "    </tr>\n",
       "    <tr>\n",
       "      <th>s2</th>\n",
       "      <td>0.219243</td>\n",
       "      <td>0.142637</td>\n",
       "      <td>0.261170</td>\n",
       "      <td>0.185558</td>\n",
       "      <td>0.896663</td>\n",
       "      <td>1.000000</td>\n",
       "      <td>-0.196455</td>\n",
       "      <td>0.659817</td>\n",
       "      <td>0.318353</td>\n",
       "      <td>0.290600</td>\n",
       "      <td>0.174054</td>\n",
       "    </tr>\n",
       "    <tr>\n",
       "      <th>s3</th>\n",
       "      <td>-0.075181</td>\n",
       "      <td>-0.379090</td>\n",
       "      <td>-0.366811</td>\n",
       "      <td>-0.178761</td>\n",
       "      <td>0.051519</td>\n",
       "      <td>-0.196455</td>\n",
       "      <td>1.000000</td>\n",
       "      <td>-0.738493</td>\n",
       "      <td>-0.398577</td>\n",
       "      <td>-0.273697</td>\n",
       "      <td>-0.394789</td>\n",
       "    </tr>\n",
       "    <tr>\n",
       "      <th>s4</th>\n",
       "      <td>0.203841</td>\n",
       "      <td>0.332115</td>\n",
       "      <td>0.413807</td>\n",
       "      <td>0.257653</td>\n",
       "      <td>0.542207</td>\n",
       "      <td>0.659817</td>\n",
       "      <td>-0.738493</td>\n",
       "      <td>1.000000</td>\n",
       "      <td>0.617857</td>\n",
       "      <td>0.417212</td>\n",
       "      <td>0.430453</td>\n",
       "    </tr>\n",
       "    <tr>\n",
       "      <th>s5</th>\n",
       "      <td>0.270777</td>\n",
       "      <td>0.149918</td>\n",
       "      <td>0.446159</td>\n",
       "      <td>0.393478</td>\n",
       "      <td>0.515501</td>\n",
       "      <td>0.318353</td>\n",
       "      <td>-0.398577</td>\n",
       "      <td>0.617857</td>\n",
       "      <td>1.000000</td>\n",
       "      <td>0.464670</td>\n",
       "      <td>0.565883</td>\n",
       "    </tr>\n",
       "    <tr>\n",
       "      <th>s6</th>\n",
       "      <td>0.301731</td>\n",
       "      <td>0.208133</td>\n",
       "      <td>0.388680</td>\n",
       "      <td>0.390429</td>\n",
       "      <td>0.325717</td>\n",
       "      <td>0.290600</td>\n",
       "      <td>-0.273697</td>\n",
       "      <td>0.417212</td>\n",
       "      <td>0.464670</td>\n",
       "      <td>1.000000</td>\n",
       "      <td>0.382483</td>\n",
       "    </tr>\n",
       "    <tr>\n",
       "      <th>Y</th>\n",
       "      <td>0.187889</td>\n",
       "      <td>0.043062</td>\n",
       "      <td>0.586450</td>\n",
       "      <td>0.441484</td>\n",
       "      <td>0.212022</td>\n",
       "      <td>0.174054</td>\n",
       "      <td>-0.394789</td>\n",
       "      <td>0.430453</td>\n",
       "      <td>0.565883</td>\n",
       "      <td>0.382483</td>\n",
       "      <td>1.000000</td>\n",
       "    </tr>\n",
       "  </tbody>\n",
       "</table>\n",
       "</div>"
      ],
      "text/plain": [
       "          age       sex       bmi        bp        s1        s2        s3  \\\n",
       "age  1.000000  0.173737  0.185085  0.335427  0.260061  0.219243 -0.075181   \n",
       "sex  0.173737  1.000000  0.088161  0.241013  0.035277  0.142637 -0.379090   \n",
       "bmi  0.185085  0.088161  1.000000  0.395415  0.249777  0.261170 -0.366811   \n",
       "bp   0.335427  0.241013  0.395415  1.000000  0.242470  0.185558 -0.178761   \n",
       "s1   0.260061  0.035277  0.249777  0.242470  1.000000  0.896663  0.051519   \n",
       "s2   0.219243  0.142637  0.261170  0.185558  0.896663  1.000000 -0.196455   \n",
       "s3  -0.075181 -0.379090 -0.366811 -0.178761  0.051519 -0.196455  1.000000   \n",
       "s4   0.203841  0.332115  0.413807  0.257653  0.542207  0.659817 -0.738493   \n",
       "s5   0.270777  0.149918  0.446159  0.393478  0.515501  0.318353 -0.398577   \n",
       "s6   0.301731  0.208133  0.388680  0.390429  0.325717  0.290600 -0.273697   \n",
       "Y    0.187889  0.043062  0.586450  0.441484  0.212022  0.174054 -0.394789   \n",
       "\n",
       "           s4        s5        s6         Y  \n",
       "age  0.203841  0.270777  0.301731  0.187889  \n",
       "sex  0.332115  0.149918  0.208133  0.043062  \n",
       "bmi  0.413807  0.446159  0.388680  0.586450  \n",
       "bp   0.257653  0.393478  0.390429  0.441484  \n",
       "s1   0.542207  0.515501  0.325717  0.212022  \n",
       "s2   0.659817  0.318353  0.290600  0.174054  \n",
       "s3  -0.738493 -0.398577 -0.273697 -0.394789  \n",
       "s4   1.000000  0.617857  0.417212  0.430453  \n",
       "s5   0.617857  1.000000  0.464670  0.565883  \n",
       "s6   0.417212  0.464670  1.000000  0.382483  \n",
       "Y    0.430453  0.565883  0.382483  1.000000  "
      ]
     },
     "execution_count": 4,
     "metadata": {},
     "output_type": "execute_result"
    }
   ],
   "source": [
    "diabetes_df.corr()"
   ]
  },
  {
   "cell_type": "markdown",
   "metadata": {},
   "source": [
    "Como se puede observar s1 y s2 tienen la mas alta relacion entre ellas de todas las variables del modelo ya que se ve un valor de: 0.896663. Por este motivo borraremos s2\n",
    "\n",
    "Adicionalmente s4 y s3 tambien tienen una alta relacion, sin embargo esta es una relacion positiva como en el anterior caso si no que es negativa con un valor de: -0.738493. Por este motivo borraremos s4\n",
    "\n",
    "El resto de variables parecen tener una importancia para el modelo por lo que solo eliminaremos esas 2"
   ]
  },
  {
   "cell_type": "code",
   "execution_count": 5,
   "metadata": {},
   "outputs": [
    {
     "name": "stdout",
     "output_type": "stream",
     "text": [
      "          age       sex       bmi        bp        s1        s3        s5  \\\n",
      "0    0.038076  0.050680  0.061696  0.021872 -0.044223 -0.043401  0.019908   \n",
      "1   -0.001882 -0.044642 -0.051474 -0.026328 -0.008449  0.074412 -0.068330   \n",
      "2    0.085299  0.050680  0.044451 -0.005671 -0.045599 -0.032356  0.002864   \n",
      "3   -0.089063 -0.044642 -0.011595 -0.036656  0.012191 -0.036038  0.022692   \n",
      "4    0.005383 -0.044642 -0.036385  0.021872  0.003935  0.008142 -0.031991   \n",
      "5   -0.092695 -0.044642 -0.040696 -0.019442 -0.068991  0.041277 -0.041180   \n",
      "6   -0.045472  0.050680 -0.047163 -0.015999 -0.040096  0.000779 -0.062913   \n",
      "7    0.063504  0.050680 -0.001895  0.066630  0.090620  0.022869 -0.035817   \n",
      "8    0.041708  0.050680  0.061696 -0.040099 -0.013953 -0.028674 -0.014956   \n",
      "9   -0.070900 -0.044642  0.039062 -0.033214 -0.012577 -0.024993  0.067736   \n",
      "10  -0.096328 -0.044642 -0.083808  0.008101 -0.103389 -0.013948 -0.062913   \n",
      "11   0.027178  0.050680  0.017506 -0.033214 -0.007073 -0.065491 -0.096433   \n",
      "12   0.016281 -0.044642 -0.028840 -0.009113 -0.004321  0.044958 -0.030751   \n",
      "13   0.005383  0.050680 -0.001895  0.008101 -0.004321 -0.002903  0.038393   \n",
      "14   0.045341 -0.044642 -0.025607 -0.012556  0.017694  0.081775 -0.031991   \n",
      "15  -0.052738  0.050680 -0.018062  0.080401  0.089244 -0.039719  0.036056   \n",
      "16  -0.005515 -0.044642  0.042296  0.049415  0.024574  0.074412  0.052280   \n",
      "17   0.070769  0.050680  0.012117  0.056301  0.034206 -0.039719  0.027368   \n",
      "18  -0.038207 -0.044642 -0.010517 -0.036656 -0.037344 -0.028674 -0.018118   \n",
      "19  -0.027310 -0.044642 -0.018062 -0.040099 -0.002945  0.037595 -0.008944   \n",
      "20  -0.049105 -0.044642 -0.056863 -0.043542 -0.045599  0.000779 -0.011901   \n",
      "21  -0.085430  0.050680 -0.022373  0.001215 -0.037344  0.015505 -0.072128   \n",
      "22  -0.085430 -0.044642 -0.004050 -0.009113 -0.002945  0.022869 -0.061177   \n",
      "23   0.045341  0.050680  0.060618  0.031053  0.028702 -0.054446  0.133599   \n",
      "24  -0.063635 -0.044642  0.035829 -0.022885 -0.030464 -0.006584 -0.025952   \n",
      "25  -0.067268  0.050680 -0.012673 -0.040099 -0.015328 -0.058127  0.019199   \n",
      "26  -0.107226 -0.044642 -0.077342 -0.026328 -0.089630  0.026550 -0.042572   \n",
      "27  -0.023677 -0.044642  0.059541 -0.040099 -0.042848  0.011824 -0.015998   \n",
      "28   0.052606 -0.044642 -0.021295 -0.074528 -0.040096 -0.006584 -0.000609   \n",
      "29   0.067136  0.050680 -0.006206  0.063187 -0.042848  0.052322  0.059424   \n",
      "..        ...       ...       ...       ...       ...       ...       ...   \n",
      "412  0.074401 -0.044642  0.085408  0.063187  0.014942  0.015505  0.006209   \n",
      "413 -0.052738 -0.044642 -0.000817 -0.026328  0.010815  0.048640 -0.035817   \n",
      "414  0.081666  0.050680  0.006728 -0.004523  0.109883 -0.032356  0.054724   \n",
      "415 -0.005515 -0.044642  0.008883 -0.050428  0.025950 -0.043401  0.014823   \n",
      "416 -0.027310 -0.044642  0.080019  0.098763 -0.002945 -0.017629 -0.029528   \n",
      "417 -0.052738 -0.044642  0.071397 -0.074528 -0.015328  0.004460 -0.046879   \n",
      "418  0.009016 -0.044642 -0.024529 -0.026328  0.098876  0.070730 -0.021394   \n",
      "419 -0.020045 -0.044642 -0.054707 -0.053871 -0.066239  0.011824 -0.074089   \n",
      "420  0.023546 -0.044642 -0.036385  0.000068  0.001183 -0.043401 -0.033249   \n",
      "421  0.038076  0.050680  0.016428  0.021872  0.039710 -0.043401  0.049769   \n",
      "422 -0.078165  0.050680  0.077863  0.052858  0.078236  0.026550  0.040672   \n",
      "423  0.009016  0.050680 -0.039618  0.028758  0.038334 -0.072854  0.015567   \n",
      "424  0.001751  0.050680  0.011039 -0.019442 -0.016704 -0.047082  0.024053   \n",
      "425 -0.078165 -0.044642 -0.040696 -0.081414 -0.100638  0.022869 -0.020289   \n",
      "426  0.030811  0.050680 -0.034229  0.043677  0.057597 -0.032356  0.035462   \n",
      "427 -0.034575  0.050680  0.005650 -0.005671 -0.073119 -0.006584 -0.045421   \n",
      "428  0.048974  0.050680  0.088642  0.087287  0.035582 -0.024993  0.066048   \n",
      "429 -0.041840 -0.044642 -0.033151 -0.022885  0.046589  0.056003 -0.025952   \n",
      "430 -0.009147 -0.044642 -0.056863 -0.050428  0.021822 -0.028674 -0.009919   \n",
      "431  0.070769  0.050680 -0.030996  0.021872 -0.037344  0.033914 -0.014956   \n",
      "432  0.009016 -0.044642  0.055229 -0.005671  0.057597 -0.002903  0.055684   \n",
      "433 -0.027310 -0.044642 -0.060097 -0.029771  0.046589  0.122273 -0.051401   \n",
      "434  0.016281 -0.044642  0.001339  0.008101  0.005311  0.030232 -0.045421   \n",
      "435 -0.012780 -0.044642 -0.023451 -0.040099 -0.016704 -0.017629 -0.038459   \n",
      "436 -0.056370 -0.044642 -0.074108 -0.050428 -0.024960  0.092820 -0.061177   \n",
      "437  0.041708  0.050680  0.019662  0.059744 -0.005697 -0.028674  0.031193   \n",
      "438 -0.005515  0.050680 -0.015906 -0.067642  0.049341 -0.028674 -0.018118   \n",
      "439  0.041708  0.050680 -0.015906  0.017282 -0.037344 -0.024993 -0.046879   \n",
      "440 -0.045472 -0.044642  0.039062  0.001215  0.016318 -0.028674  0.044528   \n",
      "441 -0.045472 -0.044642 -0.073030 -0.081414  0.083740  0.173816 -0.004220   \n",
      "\n",
      "           s6      Y  \n",
      "0   -0.017646  151.0  \n",
      "1   -0.092204   75.0  \n",
      "2   -0.025930  141.0  \n",
      "3   -0.009362  206.0  \n",
      "4   -0.046641  135.0  \n",
      "5   -0.096346   97.0  \n",
      "6   -0.038357  138.0  \n",
      "7    0.003064   63.0  \n",
      "8    0.011349  110.0  \n",
      "9   -0.013504  310.0  \n",
      "10  -0.034215  101.0  \n",
      "11  -0.059067   69.0  \n",
      "12  -0.042499  179.0  \n",
      "13  -0.013504  185.0  \n",
      "14  -0.075636  118.0  \n",
      "15  -0.042499  171.0  \n",
      "16   0.027917  166.0  \n",
      "17  -0.001078  144.0  \n",
      "18  -0.017646   97.0  \n",
      "19  -0.054925  168.0  \n",
      "20   0.015491   68.0  \n",
      "21  -0.017646   49.0  \n",
      "22  -0.013504   68.0  \n",
      "23   0.135612  245.0  \n",
      "24  -0.054925  184.0  \n",
      "25  -0.034215  202.0  \n",
      "26  -0.005220  137.0  \n",
      "27   0.040343   85.0  \n",
      "28  -0.054925  131.0  \n",
      "29   0.052770  283.0  \n",
      "..        ...    ...  \n",
      "412  0.085907  261.0  \n",
      "413  0.019633  113.0  \n",
      "414  0.007207  131.0  \n",
      "415  0.003064  174.0  \n",
      "416  0.036201  257.0  \n",
      "417  0.003064   55.0  \n",
      "418  0.007207   84.0  \n",
      "419 -0.005220   42.0  \n",
      "420  0.061054  146.0  \n",
      "421  0.015491  212.0  \n",
      "422 -0.009362  233.0  \n",
      "423 -0.046641   91.0  \n",
      "424  0.023775  111.0  \n",
      "425 -0.050783  152.0  \n",
      "426  0.085907  120.0  \n",
      "427  0.032059   67.0  \n",
      "428  0.131470  310.0  \n",
      "429 -0.038357   94.0  \n",
      "430 -0.017646  183.0  \n",
      "431 -0.001078   66.0  \n",
      "432  0.106617  173.0  \n",
      "433 -0.009362   72.0  \n",
      "434  0.032059   49.0  \n",
      "435 -0.038357   64.0  \n",
      "436 -0.046641   48.0  \n",
      "437  0.007207  178.0  \n",
      "438  0.044485  104.0  \n",
      "439  0.015491  132.0  \n",
      "440 -0.025930  220.0  \n",
      "441  0.003064   57.0  \n",
      "\n",
      "[442 rows x 9 columns]\n"
     ]
    }
   ],
   "source": [
    "diabetes_df = diabetes_df.drop(['s2', 's4'], axis=1)\n",
    "print(diabetes_df)"
   ]
  },
  {
   "cell_type": "markdown",
   "metadata": {},
   "source": [
    "# Comparacion entre transformaciones"
   ]
  },
  {
   "cell_type": "markdown",
   "metadata": {},
   "source": [
    "Para esto aplicaremos diferentes transformaciones a los datos para poder visualizar si alguna de ellas nos mejora el error que se obtiene de forma inicial (transformacion identidad), no usaremos ln ni raiz ya que en los datos hay numeros negativos por lo que no es una transformacion recomendable"
   ]
  },
  {
   "cell_type": "code",
   "execution_count": 61,
   "metadata": {},
   "outputs": [
    {
     "name": "stdout",
     "output_type": "stream",
     "text": [
      "Funcion Cuadratica\n",
      "MAE: 20220.85865378829\n",
      "MSE: 611888987.7859542\n",
      "RMSE: 24736.389950555724\n",
      " \n",
      "\n",
      "Funcion Exponencial\n",
      "MAE: 1.9800893942119126e+148\n",
      "MSE: 6.5176845077311026e+296\n",
      "RMSE: 2.5529756183189653e+148\n",
      " \n",
      "\n",
      "Funcion Identidad\n",
      "MAE: 45.698230046662076\n",
      "MSE: 3304.2330813834183\n",
      "RMSE: 57.482458901680765\n",
      " \n",
      "\n"
     ]
    }
   ],
   "source": [
    "transformations = [(\"Funcion Cuadratica\", lambda x: x**2),\n",
    "                   (\"Funcion Exponencial\", lambda x: np.exp(x)),\n",
    "                   (\"Funcion Identidad\", lambda x: x)]\n",
    "\n",
    "for name, transformation in transformations:\n",
    "    df = diabetes_df.apply(transformation)\n",
    "    X_train, X_test, y_train, y_test = train_test_split(df.drop(['Y'], axis=1), \n",
    "                                                        df['Y'], test_size=0.30)\n",
    "    \n",
    "    lm = LinearRegression()\n",
    "    lm.fit(X_train,y_train)\n",
    "    predictions = lm.predict(X_test)\n",
    "    print( name )\n",
    "    print('MAE:', metrics.mean_absolute_error(y_test, predictions))\n",
    "    print('MSE:', metrics.mean_squared_error(y_test, predictions))\n",
    "    print('RMSE:', np.sqrt(metrics.mean_squared_error(y_test, predictions)))\n",
    "    print(\" \\n\")\n",
    "    \n",
    "    "
   ]
  },
  {
   "cell_type": "markdown",
   "metadata": {},
   "source": [
    "El error mas pequeño se obtiene con la identidad, es decir sin hacer transformacion a los datos, es por este motivo que lo mejor es trabajar con los datos en su forma original y de esta forma minimizar el error"
   ]
  },
  {
   "cell_type": "markdown",
   "metadata": {},
   "source": [
    "# Modelo"
   ]
  },
  {
   "cell_type": "code",
   "execution_count": 7,
   "metadata": {},
   "outputs": [
    {
     "name": "stdout",
     "output_type": "stream",
     "text": [
      "MinMaxScaler(copy=True, feature_range=(0, 1))\n",
      "MinMaxScaler(copy=True, feature_range=(0, 1))\n"
     ]
    }
   ],
   "source": [
    "x=diabetes_df.drop(['Y'],axis=1)\n",
    "y=diabetes_df[['Y']]\n",
    "y=np.reshape(y, (-1,1))\n",
    "scaler = MinMaxScaler()\n",
    "print(scaler.fit(x))\n",
    "print(scaler.fit(y))\n",
    "xscale=scaler.transform(x)\n",
    "yscale=scaler.transform(y)\n",
    "X_train, X_test, y_train, y_test = train_test_split(xscale, yscale, test_size=0.30)"
   ]
  },
  {
   "cell_type": "code",
   "execution_count": 8,
   "metadata": {},
   "outputs": [],
   "source": [
    "def print_history(history, units):    \n",
    "    print(history.history.keys())\n",
    "    plt.plot(history.history['loss'])\n",
    "    plt.plot(history.history['val_loss'])\n",
    "    plt.title('Perdida del modelo con ' + str(units) + \" unidades\")\n",
    "    plt.ylabel('Perdida')\n",
    "    plt.xlabel('Periodo')\n",
    "    plt.legend(['Entrenamiento', 'validacion'], loc='upper left')\n",
    "    plt.show()"
   ]
  },
  {
   "cell_type": "code",
   "execution_count": 9,
   "metadata": {},
   "outputs": [
    {
     "name": "stdout",
     "output_type": "stream",
     "text": [
      "WARNING:tensorflow:From C:\\Users\\Usuario\\Anaconda3\\lib\\site-packages\\tensorflow\\python\\ops\\resource_variable_ops.py:435: colocate_with (from tensorflow.python.framework.ops) is deprecated and will be removed in a future version.\n",
      "Instructions for updating:\n",
      "Colocations handled automatically by placer.\n",
      "_________________________________________________________________\n",
      "Layer (type)                 Output Shape              Param #   \n",
      "=================================================================\n",
      "dense (Dense)                (None, 3)                 27        \n",
      "_________________________________________________________________\n",
      "dense_1 (Dense)              (None, 1)                 4         \n",
      "=================================================================\n",
      "Total params: 31\n",
      "Trainable params: 31\n",
      "Non-trainable params: 0\n",
      "_________________________________________________________________\n",
      "WARNING:tensorflow:From C:\\Users\\Usuario\\Anaconda3\\lib\\site-packages\\tensorflow\\python\\keras\\utils\\losses_utils.py:170: to_float (from tensorflow.python.ops.math_ops) is deprecated and will be removed in a future version.\n",
      "Instructions for updating:\n",
      "Use tf.cast instead.\n",
      "WARNING:tensorflow:From C:\\Users\\Usuario\\Anaconda3\\lib\\site-packages\\tensorflow\\python\\ops\\math_ops.py:3066: to_int32 (from tensorflow.python.ops.math_ops) is deprecated and will be removed in a future version.\n",
      "Instructions for updating:\n",
      "Use tf.cast instead.\n",
      "dict_keys(['loss', 'mean_squared_error', 'mean_absolute_error', 'val_loss', 'val_mean_squared_error', 'val_mean_absolute_error'])\n"
     ]
    },
    {
     "data": {
      "image/png": "[encoded data removed]",
      "text/plain": [
       "<matplotlib.figure.Figure at 0x250698eb978>"
      ]
     },
     "metadata": {},
     "output_type": "display_data"
    },
    {
     "name": "stdout",
     "output_type": "stream",
     "text": [
      "_________________________________________________________________\n",
      "Layer (type)                 Output Shape              Param #   \n",
      "=================================================================\n",
      "dense_2 (Dense)              (None, 12)                108       \n",
      "_________________________________________________________________\n",
      "dense_3 (Dense)              (None, 1)                 13        \n",
      "=================================================================\n",
      "Total params: 121\n",
      "Trainable params: 121\n",
      "Non-trainable params: 0\n",
      "_________________________________________________________________\n",
      "dict_keys(['loss', 'mean_squared_error', 'mean_absolute_error', 'val_loss', 'val_mean_squared_error', 'val_mean_absolute_error'])\n"
     ]
    },
    {
     "data": {
      "image/png": "[encoded data removed]",
      "text/plain": [
       "<matplotlib.figure.Figure at 0x2506e11cbe0>"
      ]
     },
     "metadata": {},
     "output_type": "display_data"
    },
    {
     "name": "stdout",
     "output_type": "stream",
     "text": [
      "_________________________________________________________________\n",
      "Layer (type)                 Output Shape              Param #   \n",
      "=================================================================\n",
      "dense_4 (Dense)              (None, 243)               2187      \n",
      "_________________________________________________________________\n",
      "dense_5 (Dense)              (None, 1)                 244       \n",
      "=================================================================\n",
      "Total params: 2,431\n",
      "Trainable params: 2,431\n",
      "Non-trainable params: 0\n",
      "_________________________________________________________________\n",
      "dict_keys(['loss', 'mean_squared_error', 'mean_absolute_error', 'val_loss', 'val_mean_squared_error', 'val_mean_absolute_error'])\n"
     ]
    },
    {
     "data": {
      "image/png": "[encoded data removed]",
      "text/plain": [
       "<matplotlib.figure.Figure at 0x2506f5d1128>"
      ]
     },
     "metadata": {},
     "output_type": "display_data"
    },
    {
     "name": "stdout",
     "output_type": "stream",
     "text": [
      "_________________________________________________________________\n",
      "Layer (type)                 Output Shape              Param #   \n",
      "=================================================================\n",
      "dense_6 (Dense)              (None, 2187)              19683     \n",
      "_________________________________________________________________\n",
      "dense_7 (Dense)              (None, 1)                 2188      \n",
      "=================================================================\n",
      "Total params: 21,871\n",
      "Trainable params: 21,871\n",
      "Non-trainable params: 0\n",
      "_________________________________________________________________\n",
      "dict_keys(['loss', 'mean_squared_error', 'mean_absolute_error', 'val_loss', 'val_mean_squared_error', 'val_mean_absolute_error'])\n"
     ]
    },
    {
     "data": {
      "image/png": "[encoded data removed]",
      "text/plain": [
       "<matplotlib.figure.Figure at 0x2506ff18fd0>"
      ]
     },
     "metadata": {},
     "output_type": "display_data"
    },
    {
     "name": "stdout",
     "output_type": "stream",
     "text": [
      "_________________________________________________________________\n",
      "Layer (type)                 Output Shape              Param #   \n",
      "=================================================================\n",
      "dense_8 (Dense)              (None, 6561)              59049     \n",
      "_________________________________________________________________\n",
      "dense_9 (Dense)              (None, 1)                 6562      \n",
      "=================================================================\n",
      "Total params: 65,611\n",
      "Trainable params: 65,611\n",
      "Non-trainable params: 0\n",
      "_________________________________________________________________\n",
      "dict_keys(['loss', 'mean_squared_error', 'mean_absolute_error', 'val_loss', 'val_mean_squared_error', 'val_mean_absolute_error'])\n"
     ]
    },
    {
     "data": {
      "image/png": "[encoded data removed]",
      "text/plain": [
       "<matplotlib.figure.Figure at 0x2506fa89828>"
      ]
     },
     "metadata": {},
     "output_type": "display_data"
    }
   ],
   "source": [
    "quantity_of_neurons = [3, 12, 243, 2187, 6561]\n",
    "for units in quantity_of_neurons:\n",
    "    model = Sequential()\n",
    "    model.add(Dense(units, input_dim=X_train.shape[1], kernel_initializer='normal', activation='relu'))\n",
    "    model.add(Dense(1, activation='linear'))\n",
    "    model.summary()\n",
    "    model.compile(loss='mse', optimizer='adam', metrics=['mse','mae'])\n",
    "    history = model.fit(X_train, y_train, epochs=150, batch_size=70, verbose=0, validation_split=0.15)\n",
    "    print_history(history, units)"
   ]
  },
  {
   "cell_type": "markdown",
   "metadata": {},
   "source": [
    "En este caso se tomo una cantidad de neuronas aleatorias en multiplos de 3, se puede ver que a partir de 12 se vuelven muy parecidos los modelos y cuando las neuronas son muchas empieza a haber mas fluctiacion en las perdidas, 3 al parecer son muy pocas pero en un numero cercano a 12 parece estar el equilibrio ya que se vuelve practicamente constante las perdidas y no fluctua mucho"
   ]
  },
  {
   "cell_type": "markdown",
   "metadata": {},
   "source": [
    "# Comparacion de resultados"
   ]
  },
  {
   "cell_type": "code",
   "execution_count": 65,
   "metadata": {},
   "outputs": [
    {
     "name": "stdout",
     "output_type": "stream",
     "text": [
      "MSE del Cross validation:  3146.745995859651\n"
     ]
    }
   ],
   "source": [
    "X = diabetes_df.drop([\"Y\"],axis = 1).values\n",
    "y = diabetes_df[\"Y\"].values\n",
    "\n",
    "def cross_validation(train_index, test_index,X,y):    \n",
    "    \n",
    "    X_train, X_test = pd.DataFrame(X[train_index]), pd.DataFrame(X[test_index])\n",
    "    y_train, y_test = pd.DataFrame(y[train_index]), pd.DataFrame(y[test_index])\n",
    "    \n",
    "    X_train.columns = ['age', 'sex', 'bmi', 'bp', 's1', 's3', 's5', 's6']\n",
    "    X_test.columns = X_train.columns = ['age', 'sex', 'bmi', 'bp', 's1', 's3', 's5', 's6']\n",
    "\n",
    "    sex = tf.feature_column.numeric_column('sex')\n",
    "    bmi = tf.feature_column.numeric_column('bmi')\n",
    "    bp = tf.feature_column.numeric_column('bp')\n",
    "    s1 = tf.feature_column.numeric_column('s1')\n",
    "    s5 = tf.feature_column.numeric_column('s5')\n",
    "    s6 = tf.feature_column.numeric_column('s6')\n",
    "\n",
    "    feat_cols = [sex, bmi, bp, s1, s5, s6]\n",
    "    input_func = tf.estimator.inputs.pandas_input_fn(x=X_train,\n",
    "                                                     y= y_train[0],\n",
    "                                                     batch_size=10,\n",
    "                                                     num_epochs=3000,\n",
    "                                                     shuffle=False)\n",
    "    \n",
    "    model = tf.estimator.DNNRegressor(hidden_units=[4,4,4],feature_columns=feat_cols)\n",
    "\n",
    "    model.train(input_fn=input_func,steps=5000)\n",
    "\n",
    "    predict_input_func = tf.estimator.inputs.pandas_input_fn(\n",
    "        x=X_test,\n",
    "        batch_size=10,\n",
    "        num_epochs=1,\n",
    "        shuffle=False)\n",
    "\n",
    "    pred_gen = model.predict(predict_input_func)\n",
    "\n",
    "    predictions = list(pred_gen)\n",
    "\n",
    "    final_preds = []\n",
    "\n",
    "    for pred in predictions:\n",
    "        final_preds.append(pred['predictions'])   \n",
    "\n",
    "    return metrics.mean_squared_error(y_test, final_preds)\n",
    "\n",
    "from sklearn.model_selection import KFold\n",
    "kf = KFold(n_splits=4)\n",
    "\n",
    "resultado_cross = []\n",
    "\n",
    "for train_index, test_index in kf.split(X):    \n",
    "    resultado_cross.append(cross_validation(train_index,test_index,X,y))\n",
    "    \n",
    "print(\"MSE del Cross validation: \", np.array(resultado_cross).sum()/len(resultado_cross))"
   ]
  },
  {
   "cell_type": "markdown",
   "metadata": {},
   "source": [
    "Como se puede observar el MSE dio menor al que se habia producido anteriormente por lo que la red neuronal es efectiva aunque no haya mucha diferencia"
   ]
  },
  {
   "cell_type": "code",
   "execution_count": null,
   "metadata": {},
   "outputs": [],
   "source": []
  }
 ],
 "metadata": {
  "colab": {
   "include_colab_link": true,
   "name": "Copia de Untitled3.ipynb",
   "provenance": [],
   "version": "0.3.2"
  },
  "kernelspec": {
   "display_name": "Python 3",
   "language": "python",
   "name": "python3"
  },
  "language_info": {
   "codemirror_mode": {
    "name": "ipython",
    "version": 3
   },
   "file_extension": ".py",
   "mimetype": "text/x-python",
   "name": "python",
   "nbconvert_exporter": "python",
   "pygments_lexer": "ipython3",
   "version": "3.6.4"
  }
 },
 "nbformat": 4,
 "nbformat_minor": 2
}
