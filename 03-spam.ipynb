{
 "cells": [
  {
   "cell_type": "markdown",
   "metadata": {
    "colab": {},
    "colab_type": "code",
    "id": "n3lnWjvI83ix"
   },
   "source": [
    "# Filtado de mensajes spam"
   ]
  },
  {
   "cell_type": "markdown",
   "metadata": {},
   "source": [
    "## Descripción del problema real"
   ]
  },
  {
   "cell_type": "markdown",
   "metadata": {},
   "source": [
    "La recepción de publicidad no deseada a traves mensajes de texto usando SMS (Short Message Service) es un problema que afecta a muchos usuarios de teléfonos móviles. El problema radica en que los usuarios deben pagar por los mesajes recibidos, y por este motivo resulta muy importante que las compañías prestadoras del servicio puedan filtrar mensajes indeseados antes de enviarlos a su destinatario final. Los mensajes tienen una longitud máxima de 160 caracteres, por lo que el texto resulta poco para realizar la clasificación, en comparación con textos más largos (como los emails). Adicionalmente, los errores de digitación dificultan el proceso de detección automática."
   ]
  },
  {
   "cell_type": "markdown",
   "metadata": {},
   "source": [
    "## Descripción del problema en términos de los datos"
   ]
  },
  {
   "cell_type": "markdown",
   "metadata": {},
   "source": [
    "Se tiene una muestra contiene 5574 mensajes en inglés, no codificados y clasificados como legítimos (ham) o spam (http://www.dt.fee.unicamp.br/~tiago/smsspamcollection/). La información está almacenada en el archivo `datos/spam-sms.zip`.El problema en términos de los datos consiste en clasificar si un mensaje SMS es legítico o spam, a partir del análisis de las palabras que contiente, partiendo del supuesto de que ciertas palabras que son más frecuentes dependiendo del tipo de mensaje. Esto implica que en la fase de preparación de los datos se deben extraer las palabras que contiene cada mensaje para poder realizar el análsis."
   ]
  },
  {
   "cell_type": "markdown",
   "metadata": {},
   "source": [
    "## Aproximaciones posibles"
   ]
  },
  {
   "cell_type": "markdown",
   "metadata": {},
   "source": [
    "En este caso, se desea comparar los resultados de un modelo de redes neuronales artificiales y otras técnicas estadísticas para realizar la clasificación."
   ]
  },
  {
   "cell_type": "markdown",
   "metadata": {},
   "source": [
    "## Requerimientos"
   ]
  },
  {
   "cell_type": "markdown",
   "metadata": {},
   "source": [
    "Usted debe:\n",
    "\n",
    "* Preprocesar los datos para representarlos usando bag-of-words.\n",
    "\n",
    "\n",
    "* Construir un modelo de regresión logística como punto base para la comparación con otros modelos más complejos.\n",
    "\n",
    "\n",
    "* Construir un modelo de redes neuronales artificiales. Asimismo, debe determinar el número de neuronas en la capa o capas ocultas.\n",
    "\n",
    "\n",
    "* Utiizar una técnica como crossvalidation u otra similar para establecer la robustez del modelo.\n",
    "\n",
    "\n",
    "* Presentar métricas de desempeño para establecer las bondades y falencias de cada clasificador."
   ]
  },
  {
   "cell_type": "code",
   "execution_count": 1,
   "metadata": {},
   "outputs": [],
   "source": [
    "import pandas as pd\n",
    "import glob\n",
    "import email\n",
    "import re\n",
    "import nltk\n",
    "import sklearn"
   ]
  },
  {
   "cell_type": "code",
   "execution_count": 2,
   "metadata": {},
   "outputs": [
    {
     "name": "stdout",
     "output_type": "stream",
     "text": [
      "[nltk_data] Downloading package stopwords to\n",
      "[nltk_data]     C:\\Users\\Usuario\\AppData\\Roaming\\nltk_data...\n",
      "[nltk_data]   Package stopwords is already up-to-date!\n",
      "[nltk_data] Downloading package punkt to\n",
      "[nltk_data]     C:\\Users\\Usuario\\AppData\\Roaming\\nltk_data...\n",
      "[nltk_data]   Package punkt is already up-to-date!\n",
      "[nltk_data] Downloading package words to\n",
      "[nltk_data]     C:\\Users\\Usuario\\AppData\\Roaming\\nltk_data...\n",
      "[nltk_data]   Package words is already up-to-date!\n"
     ]
    },
    {
     "data": {
      "text/plain": [
       "True"
      ]
     },
     "execution_count": 2,
     "metadata": {},
     "output_type": "execute_result"
    }
   ],
   "source": [
    "nltk.download('stopwords')\n",
    "nltk.download('punkt')\n",
    "nltk.download('words')"
   ]
  },
  {
   "cell_type": "code",
   "execution_count": 3,
   "metadata": {},
   "outputs": [],
   "source": [
    "def _remove_html_tags(text):\n",
    "    return re.sub(\"<[^>]*>\", \"\", text)\n",
    "\n",
    "def _remove_emails(text):\n",
    "    return re.sub(\"[a-zA-Z0-9-_.]+@[a-zA-Z0-9-_.].+\", \"\", text)\n",
    "\n",
    "def _lowercase_all(text):\n",
    "    return text.lower()\n",
    "\n",
    "def _remove_special_characters(text):\n",
    "    return re.sub(\"[^A-Za-z0-9]+\", \" \", text)\n",
    "\n",
    "def _remove_numbers(text):\n",
    "    return re.sub(\"[0-9]+\", \"\", text)\n",
    "\n",
    "def _remove_single_letters(text):\n",
    "    words_list = text.split()\n",
    "    clean_text_words = []\n",
    "    for word in words_list:\n",
    "        if len(word) > 1:\n",
    "            clean_text_words.append(word)\n",
    "    return \" \".join(clean_text_words)\n",
    "\n",
    "def _lemmatization_of_words(text):    \n",
    "    from nltk.stem.porter import PorterStemmer\n",
    "    clean_text_words = []\n",
    "    porter = PorterStemmer()\n",
    "    sentence_words = nltk.word_tokenize(text)\n",
    "    \n",
    "    for word in sentence_words:\n",
    "        clean_text_words.append(porter.stem(word))\n",
    "    \n",
    "    return \" \".join(clean_text_words)\n",
    "\n",
    "def _remove_stop_words(text):\n",
    "    from nltk.corpus import stopwords\n",
    "    \n",
    "    stop_words = set(stopwords.words('english'))\n",
    "    words = nltk.word_tokenize(text)\n",
    "    words_filtered = []\n",
    "\n",
    "    for word in words:\n",
    "        if word not in stop_words:\n",
    "            words_filtered.append(word)\n",
    "    \n",
    "    return \" \".join(words_filtered)\n",
    "\n",
    "def _remove_nonsense_words(text):\n",
    "    from nltk.corpus import words\n",
    "    words = set(words.words())\n",
    "    \n",
    "    return \" \".join(w for w in nltk.wordpunct_tokenize(text) if w in words)\n",
    "\n",
    "def _remove_websites(text):\n",
    "    regex = r'\\b((?:[a-z][\\w-]+:(?:\\/{1,3}|[a-z0-9%])|www\\d{0,3}[.]|[a-z0-9.\\-]+[.][a-z]{2,4}\\/)(?:[^\\s()<>]+|\\(([^\\s()<>]+|(\\([^\\s()<>]+\\)))*\\))+(?:\\(([^\\s()<>]+|(\\([^\\s()<>]+\\)))*\\)|[^\\s`!()\\[\\]{};:\\'\\\".,<>?«»“”‘’]))'\n",
    "    return re.sub(regex, \"\", text)"
   ]
  },
  {
   "cell_type": "code",
   "execution_count": 4,
   "metadata": {},
   "outputs": [],
   "source": [
    "def _clean_body_message(body):\n",
    "    message_without_html_tags = _remove_html_tags(body)\n",
    "\n",
    "    message_without_websites = _remove_websites(message_without_html_tags)\n",
    "\n",
    "    message_without_emails = _remove_emails(message_without_websites)\n",
    "\n",
    "    message_lowercase = _lowercase_all(message_without_emails)\n",
    "\n",
    "    message_without_numbers = _remove_numbers(message_lowercase)\n",
    "\n",
    "    message_without_special_characters = _remove_special_characters(message_without_numbers)\n",
    "    \n",
    "    message_without_single_letters = _remove_single_letters(message_without_special_characters)\n",
    "    \n",
    "    message_without_stop_words = _remove_stop_words(message_without_single_letters)\n",
    "    \n",
    "    message_with_correct_words = _remove_nonsense_words(message_without_stop_words)\n",
    "    \n",
    "    clean_message = _lemmatization_of_words(message_with_correct_words)\n",
    "    \n",
    "    return clean_message"
   ]
  },
  {
   "cell_type": "code",
   "execution_count": 5,
   "metadata": {},
   "outputs": [],
   "source": [
    "def _get_body_message(all_message):\n",
    "    b = email.message_from_string(all_message)\n",
    "    body = \"\"\n",
    "\n",
    "    if b.is_multipart():\n",
    "        for part in b.walk():\n",
    "            ctype = part.get_content_type()\n",
    "            cdispo = str(part.get('Content-Disposition'))\n",
    "\n",
    "            # skip any text/plain (txt) attachments\n",
    "            if ctype == 'text/plain' and 'attachment' not in cdispo:\n",
    "                body = part.get_payload()  # decode\n",
    "                break\n",
    "    else:\n",
    "        body = b.get_payload()\n",
    "    \n",
    "    return _clean_body_message(body)"
   ]
  },
  {
   "cell_type": "code",
   "execution_count": 6,
   "metadata": {},
   "outputs": [],
   "source": [
    "def preprocess_files(files):\n",
    "    mail_body_messages = []\n",
    "    for filename in files:\n",
    "        with open(filename, 'rt', encoding = \"ISO-8859-1\") as f:\n",
    "            body_message = _get_body_message(f.read())\n",
    "            if len(body_message) > 0: \n",
    "                mail_body_messages.append(body_message)\n",
    "    return mail_body_messages"
   ]
  },
  {
   "cell_type": "markdown",
   "metadata": {},
   "source": [
    "# Procesamiento de datos"
   ]
  },
  {
   "cell_type": "code",
   "execution_count": 7,
   "metadata": {},
   "outputs": [],
   "source": [
    "first_easy_ham_files = glob.glob(\"datos/spam-filter/easy_ham/0*\")\n",
    "second_easy_ham_files = glob.glob(\"datos/spam-filter/easy_ham_2/0*\")\n",
    "first_hard_ham_files = glob.glob(\"datos/spam-filter/hard_ham/0*\")\n",
    "second_hard_ham_files = glob.glob(\"datos/spam-filter/hard_ham_2/0*\")\n",
    "first_spam_files = glob.glob(\"datos/spam-filter/spam/0*\")\n",
    "second_spam_files = glob.glob(\"datos/spam-filter/spam_2/0*\")\n",
    "\n",
    "first_easy_ham_messages = preprocess_files(first_easy_ham_files)\n",
    "second_easy_ham_messages = preprocess_files(second_easy_ham_files)\n",
    "first_hard_ham_messages = preprocess_files(first_hard_ham_files)\n",
    "second_hard_ham_messages = preprocess_files(second_hard_ham_files)\n",
    "first_spam_messages = preprocess_files(first_spam_files)\n",
    "second_spam_messages = preprocess_files(second_spam_files)"
   ]
  },
  {
   "cell_type": "markdown",
   "metadata": {},
   "source": [
    "Veremos si la limpieza de los mensajes fue correcta"
   ]
  },
  {
   "cell_type": "code",
   "execution_count": 8,
   "metadata": {},
   "outputs": [
    {
     "data": {
      "text/plain": [
       "['date wed messag id reproduc error repeat like everi time without fail log pick happen pick pick list subject sequenc pick list subject sequenc hit mark syntax error express note run pick command hand delta pick list subject sequenc hit hit come obvious version delta pick version pick mu sun mar relev part profil delta pick list sinc pick command work sequenc actual one explicit command line search one come profil get still version code form day ago abl reach repositori today local rout issu think list',\n",
       " 'martin post sculptor behind plan limeston mount east far mount monast commun ideal patriot sculptur well granit high wide museum car park admir mountain limeston granit limeston weather pretti fast yahoo sponsor free join group send use yahoo subject',\n",
       " 'man explos august secur unidentifi man said arm blow truck front russia feder secur headquart televis automat rifl man carri man got truck taken custodi said immedi avail man high govern tass news said radio talk presid polic secur rush secur servic build within kremlin red squar ballet surround man one half news said continu one half outsid build tass man later drove away build polic escort drove street near penta hotel polic press servic said move attempt secur get secur locat yahoo sponsor free join group send use yahoo subject']"
      ]
     },
     "execution_count": 8,
     "metadata": {},
     "output_type": "execute_result"
    }
   ],
   "source": [
    "first_easy_ham_messages[:3]"
   ]
  },
  {
   "cell_type": "markdown",
   "metadata": {},
   "source": [
    "Implementacion de Bag of words"
   ]
  },
  {
   "cell_type": "code",
   "execution_count": 9,
   "metadata": {},
   "outputs": [],
   "source": [
    "def get_bag_of_words_dataset(files, is_spam_files):    \n",
    "    from sklearn.feature_extraction.text import CountVectorizer\n",
    "    vectorizer = CountVectorizer()\n",
    "    bag_of_words = vectorizer.fit_transform(files).todense()\n",
    "    dataframe = pd.DataFrame(bag_of_words, columns=vectorizer.get_feature_names())\n",
    "    \n",
    "    if is_spam_files:\n",
    "        dataframe['spam'] = 1\n",
    "    else:\n",
    "        dataframe['spam'] = 0\n",
    "        \n",
    "    return dataframe"
   ]
  },
  {
   "cell_type": "code",
   "execution_count": 10,
   "metadata": {},
   "outputs": [],
   "source": [
    "\n",
    "first_easy_ham_dataset = get_bag_of_words_dataset(first_easy_ham_messages, False)\n",
    "second_easy_ham_dataset = get_bag_of_words_dataset(second_easy_ham_messages, False)\n",
    "first_hard_ham_dataset = get_bag_of_words_dataset(first_hard_ham_messages, False)\n",
    "second_hard_ham_dataset = get_bag_of_words_dataset(second_hard_ham_messages, False)\n",
    "first_spam_dataset = get_bag_of_words_dataset(first_spam_messages, True)\n",
    "second_spam_dataset = get_bag_of_words_dataset(second_spam_messages, True)"
   ]
  },
  {
   "cell_type": "code",
   "execution_count": 11,
   "metadata": {},
   "outputs": [],
   "source": [
    "all_df= [first_easy_ham_dataset, second_easy_ham_dataset, first_hard_ham_dataset,\n",
    "        second_hard_ham_dataset, first_spam_dataset, second_spam_dataset]\n",
    "spam_df = pd.concat(all_df, axis=0, ignore_index=True)"
   ]
  },
  {
   "cell_type": "markdown",
   "metadata": {},
   "source": [
    "Los datos como estan en este momento tienen algunas casillas con NaN's por lo que eliminaremos estos valores poniendolos en 0, por lo que ahora vamos a dividir los datos en 2. Uno para entrenar y otro para comprobar dicho entrenamiento"
   ]
  },
  {
   "cell_type": "code",
   "execution_count": 12,
   "metadata": {},
   "outputs": [],
   "source": [
    "spam_df = spam_df.fillna(value=0)"
   ]
  },
  {
   "cell_type": "code",
   "execution_count": 13,
   "metadata": {},
   "outputs": [
    {
     "data": {
      "text/plain": [
       "StandardScaler(copy=True, with_mean=True, with_std=True)"
      ]
     },
     "execution_count": 13,
     "metadata": {},
     "output_type": "execute_result"
    }
   ],
   "source": [
    "from sklearn.preprocessing import StandardScaler\n",
    "scaler = StandardScaler()\n",
    "scaler.fit(spam_df.drop('spam', axis=1))"
   ]
  },
  {
   "cell_type": "code",
   "execution_count": 14,
   "metadata": {},
   "outputs": [],
   "source": [
    "scaled_features = scaler.transform(spam_df.drop('spam',axis=1))\n",
    "df_feat = pd.DataFrame(scaled_features,columns=spam_df.columns.drop('spam'))"
   ]
  },
  {
   "cell_type": "code",
   "execution_count": 15,
   "metadata": {},
   "outputs": [
    {
     "data": {
      "text/plain": [
       "(6170, 12246)"
      ]
     },
     "execution_count": 15,
     "metadata": {},
     "output_type": "execute_result"
    }
   ],
   "source": [
    "df_feat.shape"
   ]
  },
  {
   "cell_type": "code",
   "execution_count": 16,
   "metadata": {},
   "outputs": [],
   "source": [
    "from sklearn.model_selection import train_test_split\n",
    "X_train, X_test, y_train, y_test = train_test_split(scaled_features, \n",
    "                                                    spam_df['spam'], test_size=0.30)"
   ]
  },
  {
   "cell_type": "markdown",
   "metadata": {},
   "source": [
    "# Regresion logistica"
   ]
  },
  {
   "cell_type": "markdown",
   "metadata": {},
   "source": [
    "Primero debes entrenar el modelo para que pueda hacer las predicciones"
   ]
  },
  {
   "cell_type": "code",
   "execution_count": 17,
   "metadata": {},
   "outputs": [
    {
     "data": {
      "text/plain": [
       "LogisticRegression(C=1.0, class_weight=None, dual=False, fit_intercept=True,\n",
       "          intercept_scaling=1, max_iter=100, multi_class='ovr', n_jobs=1,\n",
       "          penalty='l2', random_state=None, solver='liblinear', tol=0.0001,\n",
       "          verbose=0, warm_start=False)"
      ]
     },
     "execution_count": 17,
     "metadata": {},
     "output_type": "execute_result"
    }
   ],
   "source": [
    "from sklearn.linear_model import LogisticRegression\n",
    "logmodel = LogisticRegression()\n",
    "logmodel.fit(X_train,y_train)"
   ]
  },
  {
   "cell_type": "code",
   "execution_count": 18,
   "metadata": {},
   "outputs": [],
   "source": [
    "predictions = logmodel.predict(X_test)"
   ]
  },
  {
   "cell_type": "markdown",
   "metadata": {},
   "source": [
    "Miramos que tambien quedo entrenado el modelo obteniendo 4 valores los cuales nos ayudaran a mirar esto, Falsos negativos, falsos positivos, verdaderos positivos y verdaderos negativos. Asi sabremos que tanto % de exito tuvo la prediccion"
   ]
  },
  {
   "cell_type": "code",
   "execution_count": 19,
   "metadata": {},
   "outputs": [
    {
     "name": "stdout",
     "output_type": "stream",
     "text": [
      "             precision    recall  f1-score   support\n",
      "\n",
      "          0       0.99      0.92      0.95      1292\n",
      "          1       0.84      0.97      0.90       559\n",
      "\n",
      "avg / total       0.94      0.94      0.94      1851\n",
      "\n"
     ]
    }
   ],
   "source": [
    "from sklearn.metrics import classification_report, confusion_matrix\n",
    "print(classification_report(y_test,predictions))"
   ]
  },
  {
   "cell_type": "code",
   "execution_count": 20,
   "metadata": {},
   "outputs": [
    {
     "name": "stdout",
     "output_type": "stream",
     "text": [
      "[[1188  104]\n",
      " [  16  543]]\n"
     ]
    }
   ],
   "source": [
    "print(confusion_matrix(y_test, predictions))"
   ]
  },
  {
   "cell_type": "markdown",
   "metadata": {},
   "source": [
    "Los resultados obtenidos fueron:\n",
    "    Falsos positivos: 116.\n",
    "    Falsos negativos: 11.\n",
    "    Verdaderos positivos: 1195.\n",
    "    Verdaderos negativos: 529.\n",
    "    Teniendo una precision del 93%"
   ]
  },
  {
   "cell_type": "markdown",
   "metadata": {},
   "source": [
    "# Red Neuronal"
   ]
  },
  {
   "cell_type": "markdown",
   "metadata": {},
   "source": [
    "Necesitamos una neurona para cada caracteristica de los datos (columnas de los datos), como vimos anteriormente son 12246 con el comando shape, por lo tanto usaremos un max de 6123 neuronas que es la mitad del numero total por temas de limites computacionales"
   ]
  },
  {
   "cell_type": "code",
   "execution_count": 21,
   "metadata": {},
   "outputs": [],
   "source": [
    "import matplotlib.pyplot as plt\n",
    "%matplotlib inline"
   ]
  },
  {
   "cell_type": "code",
   "execution_count": 22,
   "metadata": {},
   "outputs": [],
   "source": [
    "def print_history(fitted_model, units):\n",
    "    plt.plot(fitted_model.history['acc'])\n",
    "    plt.plot(fitted_model.history['val_acc'])\n",
    "    plt.title('Precision del modelo con {} unidades'.format(units))\n",
    "    plt.ylabel('Precisión')\n",
    "    plt.xlabel('Epoch')\n",
    "    plt.legend(['Entrenamiento', 'Validación'], loc='lower right')\n",
    "    plt.show()"
   ]
  },
  {
   "cell_type": "code",
   "execution_count": 23,
   "metadata": {},
   "outputs": [
    {
     "name": "stderr",
     "output_type": "stream",
     "text": [
      "C:\\Users\\Usuario\\Anaconda3\\lib\\site-packages\\h5py\\__init__.py:36: FutureWarning: Conversion of the second argument of issubdtype from `float` to `np.floating` is deprecated. In future, it will be treated as `np.float64 == np.dtype(float).type`.\n",
      "  from ._conv import register_converters as _register_converters\n",
      "Using TensorFlow backend.\n"
     ]
    }
   ],
   "source": [
    "import keras\n",
    "\n",
    "num_classes = 2\n",
    "\n",
    "y_train = keras.utils.to_categorical(y_train, num_classes)\n",
    "y_test = keras.utils.to_categorical(y_test, num_classes)"
   ]
  },
  {
   "cell_type": "code",
   "execution_count": 24,
   "metadata": {},
   "outputs": [],
   "source": [
    "from keras.layers import Dense \n",
    "from keras.models import Sequential\n",
    "\n",
    "number_of_features = df_feat.shape[1]\n",
    "quantity_of_units = [32, 630, 1024, 6123] "
   ]
  },
  {
   "cell_type": "code",
   "execution_count": 25,
   "metadata": {},
   "outputs": [
    {
     "name": "stdout",
     "output_type": "stream",
     "text": [
      "WARNING:tensorflow:From C:\\Users\\Usuario\\Anaconda3\\lib\\site-packages\\tensorflow\\python\\framework\\op_def_library.py:263: colocate_with (from tensorflow.python.framework.ops) is deprecated and will be removed in a future version.\n",
      "Instructions for updating:\n",
      "Colocations handled automatically by placer.\n",
      "WARNING:tensorflow:From C:\\Users\\Usuario\\Anaconda3\\lib\\site-packages\\tensorflow\\python\\ops\\math_ops.py:3066: to_int32 (from tensorflow.python.ops.math_ops) is deprecated and will be removed in a future version.\n",
      "Instructions for updating:\n",
      "Use tf.cast instead.\n"
     ]
    },
    {
     "data": {
      "image/png": "[encoded data removed]",
      "text/plain": [
       "<matplotlib.figure.Figure at 0x259308f1048>"
      ]
     },
     "metadata": {},
     "output_type": "display_data"
    },
    {
     "data": {
      "image/png": "[encoded data removed]",
      "text/plain": [
       "<matplotlib.figure.Figure at 0x25930cdb278>"
      ]
     },
     "metadata": {},
     "output_type": "display_data"
    },
    {
     "data": {
      "image/png": "[encoded data removed]",
      "text/plain": [
       "<matplotlib.figure.Figure at 0x259310626a0>"
      ]
     },
     "metadata": {},
     "output_type": "display_data"
    },
    {
     "data": {
      "image/png": "[encoded data removed]",
      "text/plain": [
       "<matplotlib.figure.Figure at 0x25930c564e0>"
      ]
     },
     "metadata": {},
     "output_type": "display_data"
    }
   ],
   "source": [
    "for units in quantity_of_units:\n",
    "    model=Sequential()\n",
    "    model.add(Dense(units, input_dim=number_of_features, activation='relu'))\n",
    "    keras.layers.core.Dropout(rate=0.4)\n",
    "    model.add(Dense(num_classes,input_dim=number_of_features,activation='softmax'))\n",
    "\n",
    "    \n",
    "    model.compile(loss='categorical_crossentropy', optimizer=\"adam\", metrics=['accuracy'])\n",
    "\n",
    "    fit_history = model.fit(X_train,y_train,epochs=50,batch_size=128,verbose=0, validation_data=(X_test,y_test))\n",
    "    print_history(fit_history, units) "
   ]
  },
  {
   "cell_type": "markdown",
   "metadata": {},
   "source": [
    "En este caso el mejor resultado fue con 630 neuronas, ya que las otras a medida que subia la cantidad de neuronas fue perdiendo la precision, 32 neuronas son pocas pero mas de 630 ocasiona perdidas en la precision.\n",
    "Adicionalmente no baja de mas del 94% y tiene un promedio de 96% de precicion con 630 neuronas, es por esto que la red neuronal es mejor ya que la regresion logistica nos habia dado una precision del 93%. Teniendo las 2 una alta taza de exito"
   ]
  },
  {
   "cell_type": "code",
   "execution_count": null,
   "metadata": {},
   "outputs": [],
   "source": []
  }
 ],
 "metadata": {
  "colab": {
   "include_colab_link": true,
   "name": "Copia de Untitled3.ipynb",
   "provenance": [],
   "version": "0.3.2"
  },
  "kernelspec": {
   "display_name": "Python 3",
   "language": "python",
   "name": "python3"
  },
  "language_info": {
   "codemirror_mode": {
    "name": "ipython",
    "version": 3
   },
   "file_extension": ".py",
   "mimetype": "text/x-python",
   "name": "python",
   "nbconvert_exporter": "python",
   "pygments_lexer": "ipython3",
   "version": "3.6.4"
  }
 },
 "nbformat": 4,
 "nbformat_minor": 2
}
